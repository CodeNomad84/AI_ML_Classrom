{
 "cells": [
  {
   "cell_type": "code",
   "execution_count": null,
   "id": "9793bf4c-eb51-48f3-959e-c8277ebfbd86",
   "metadata": {},
   "outputs": [],
   "source": [
    "# 2. پیاده‌سازی MLP با sklearn"
   ]
  },
  {
   "cell_type": "code",
   "execution_count": 8,
   "id": "a2bf2d69-d58e-48ee-8d7a-461d2e1484d2",
   "metadata": {},
   "outputs": [
    {
     "name": "stdout",
     "output_type": "stream",
     "text": [
      "sklearn MLP Test MSE: 31555801599.66\n"
     ]
    },
    {
     "name": "stderr",
     "output_type": "stream",
     "text": [
      "C:\\Users\\Meysam\\AppData\\Local\\Programs\\Python\\Python310\\lib\\site-packages\\sklearn\\neural_network\\_multilayer_perceptron.py:691: ConvergenceWarning: Stochastic Optimizer: Maximum iterations (500) reached and the optimization hasn't converged yet.\n",
      "  warnings.warn(\n"
     ]
    }
   ],
   "source": [
    "import pandas as pd\n",
    "from sklearn.neural_network import MLPRegressor\n",
    "from sklearn.preprocessing import StandardScaler\n",
    "from sklearn.model_selection import train_test_split\n",
    "from sklearn.metrics import mean_squared_error\n",
    "\n",
    "def run_sklearn_mlp(path):\n",
    "    \"\"\"\n",
    "    Load data, standardize, train sklearn's MLPRegressor,\n",
    "    and report test MSE.\n",
    "    \"\"\"\n",
    "    df = pd.read_csv(path)\n",
    "    feat_cols = ['Square_Footage', 'Num_Bedrooms', 'Num_Bathrooms',\n",
    "                 'Year_Built', 'Lot_Size', 'Garage_Size', 'Neighborhood_Quality']\n",
    "    X = df[feat_cols].values\n",
    "    y = df['House_Price'].values\n",
    "\n",
    "    # split\n",
    "    X_train, X_test, y_train, y_test = train_test_split(\n",
    "        X, y, test_size=0.3, random_state=42)\n",
    "\n",
    "    # standardize features\n",
    "    scaler = StandardScaler()\n",
    "    X_train = scaler.fit_transform(X_train)\n",
    "    X_test = scaler.transform(X_test)\n",
    "\n",
    "    # define and train MLPRegressor\n",
    "    mlp = MLPRegressor(hidden_layer_sizes=(10,),\n",
    "                       activation='tanh',\n",
    "                       solver='sgd',\n",
    "                       learning_rate_init=1e-4,\n",
    "                       max_iter=500,\n",
    "                       random_state=42)\n",
    "    mlp.fit(X_train, y_train)\n",
    "\n",
    "    # predict and evaluate\n",
    "    y_pred = mlp.predict(X_test)\n",
    "    mse = mean_squared_error(y_test, y_pred)\n",
    "    print(f\"sklearn MLP Test MSE: {mse:.2f}\")\n",
    "\n",
    "if __name__ == \"__main__\":\n",
    "    run_sklearn_mlp('house_price_regression_dataset.csv')\n"
   ]
  }
 ],
 "metadata": {
  "kernelspec": {
   "display_name": "Python 3 (ipykernel)",
   "language": "python",
   "name": "python3"
  },
  "language_info": {
   "codemirror_mode": {
    "name": "ipython",
    "version": 3
   },
   "file_extension": ".py",
   "mimetype": "text/x-python",
   "name": "python",
   "nbconvert_exporter": "python",
   "pygments_lexer": "ipython3",
   "version": "3.10.9"
  }
 },
 "nbformat": 4,
 "nbformat_minor": 5
}
